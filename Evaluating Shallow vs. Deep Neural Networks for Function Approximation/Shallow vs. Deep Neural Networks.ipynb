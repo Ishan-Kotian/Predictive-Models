{
  "nbformat": 4,
  "nbformat_minor": 0,
  "metadata": {
    "colab": {
      "provenance": []
    },
    "kernelspec": {
      "name": "python3",
      "display_name": "Python 3"
    },
    "language_info": {
      "name": "python"
    }
  },
  "cells": [
    {
      "cell_type": "markdown",
      "source": [
        "## Simulate the Data\n",
        "Simulate input-output pairs based on a non-linear target function using uniform sampling. This will serve as the learning ground for neural network models."
      ],
      "metadata": {
        "id": "5IRbaswONuAq"
      }
    },
    {
      "cell_type": "code",
      "execution_count": null,
      "metadata": {
        "id": "vrYcxRGvLLNq"
      },
      "outputs": [],
      "source": [
        "import numpy as np\n",
        "import matplotlib.pyplot as plt\n",
        "from sklearn.model_selection import train_test_split\n",
        "from tensorflow.keras.models import Sequential\n",
        "from tensorflow.keras.layers import Dense\n",
        "from tensorflow.keras.optimizers import Adam\n",
        "from sklearn.metrics import mean_squared_error\n",
        "\n",
        "# Function definition\n",
        "def target_function(x):\n",
        "    return 2 * (2 * (np.cos(x)**2) - 1)**2 - 1\n",
        "\n",
        "# Generate X values\n",
        "X = np.random.uniform(-2 * np.pi, 2 * np.pi, 120000)\n",
        "Y = target_function(X)\n",
        "\n",
        "# Train-test split\n",
        "X_train, X_test, Y_train, Y_test = train_test_split(X, Y, test_size=0.5, random_state=42)\n",
        "\n",
        "# Reshape for Keras\n",
        "X_train = X_train.reshape(-1, 1)\n",
        "X_test = X_test.reshape(-1, 1)\n",
        "Y_train = Y_train.reshape(-1, 1)\n",
        "Y_test = Y_test.reshape(-1, 1)\n"
      ]
    },
    {
      "cell_type": "markdown",
      "source": [
        "## Construct and Train Neural Network Models\n",
        "Define a flexible training function that constructs feedforward neural networks with configurable depth (number of hidden layers) and width (number of neurons), then trains them using MSE loss.\n",
        "\n"
      ],
      "metadata": {
        "id": "R1e-JXc-Npfy"
      }
    },
    {
      "cell_type": "code",
      "source": [
        "def build_and_train_nn(X_train, Y_train, X_test, Y_test, num_layers, units):\n",
        "    model = Sequential()\n",
        "    model.add(Dense(units, input_dim=1, activation='relu'))\n",
        "    for _ in range(num_layers - 1):\n",
        "        model.add(Dense(units, activation='relu'))\n",
        "    model.add(Dense(1))  # Output layer\n",
        "\n",
        "    model.compile(optimizer=Adam(learning_rate=0.01), loss='mse')\n",
        "    model.fit(X_train, Y_train, epochs=10, batch_size=256, verbose=0)\n",
        "\n",
        "    Y_pred = model.predict(X_test)\n",
        "    mse = mean_squared_error(Y_test, Y_pred)\n",
        "    total_params = model.count_params()\n",
        "\n",
        "    return mse, total_params\n"
      ],
      "metadata": {
        "id": "XqASMUBVLNsV"
      },
      "execution_count": null,
      "outputs": []
    },
    {
      "cell_type": "markdown",
      "source": [
        "## Evaluate Model Performance Across Architectures\n",
        "Run controlled experiments by varying network depth and width. For each architecture, capture model performance (MSE) and complexity (parameter count)."
      ],
      "metadata": {
        "id": "FPB670t8Nz9i"
      }
    },
    {
      "cell_type": "code",
      "source": [
        "units_list = [20, 40, 60, 80]\n",
        "results = {}\n",
        "\n",
        "for num_layers in [1, 2, 3]:\n",
        "    mse_list = []\n",
        "    param_list = []\n",
        "    for units in units_list:\n",
        "        mse, total_params = build_and_train_nn(X_train, Y_train, X_test, Y_test, num_layers, units)\n",
        "        mse_list.append(mse)\n",
        "        param_list.append(total_params)\n",
        "    results[num_layers] = (units_list.copy(), mse_list.copy(), param_list.copy())\n"
      ],
      "metadata": {
        "colab": {
          "base_uri": "https://localhost:8080/"
        },
        "id": "R6eKzaBDLRcJ",
        "outputId": "325db454-d6ea-4e5b-a103-286de2827224"
      },
      "execution_count": null,
      "outputs": [
        {
          "output_type": "stream",
          "name": "stderr",
          "text": [
            "/usr/local/lib/python3.11/dist-packages/keras/src/layers/core/dense.py:87: UserWarning: Do not pass an `input_shape`/`input_dim` argument to a layer. When using Sequential models, prefer using an `Input(shape)` object as the first layer in the model instead.\n",
            "  super().__init__(activity_regularizer=activity_regularizer, **kwargs)\n"
          ]
        },
        {
          "output_type": "stream",
          "name": "stdout",
          "text": [
            "\u001b[1m1875/1875\u001b[0m \u001b[32m━━━━━━━━━━━━━━━━━━━━\u001b[0m\u001b[37m\u001b[0m \u001b[1m4s\u001b[0m 2ms/step\n"
          ]
        },
        {
          "output_type": "stream",
          "name": "stderr",
          "text": [
            "/usr/local/lib/python3.11/dist-packages/keras/src/layers/core/dense.py:87: UserWarning: Do not pass an `input_shape`/`input_dim` argument to a layer. When using Sequential models, prefer using an `Input(shape)` object as the first layer in the model instead.\n",
            "  super().__init__(activity_regularizer=activity_regularizer, **kwargs)\n"
          ]
        },
        {
          "output_type": "stream",
          "name": "stdout",
          "text": [
            "\u001b[1m1875/1875\u001b[0m \u001b[32m━━━━━━━━━━━━━━━━━━━━\u001b[0m\u001b[37m\u001b[0m \u001b[1m2s\u001b[0m 1ms/step\n"
          ]
        },
        {
          "output_type": "stream",
          "name": "stderr",
          "text": [
            "/usr/local/lib/python3.11/dist-packages/keras/src/layers/core/dense.py:87: UserWarning: Do not pass an `input_shape`/`input_dim` argument to a layer. When using Sequential models, prefer using an `Input(shape)` object as the first layer in the model instead.\n",
            "  super().__init__(activity_regularizer=activity_regularizer, **kwargs)\n"
          ]
        },
        {
          "output_type": "stream",
          "name": "stdout",
          "text": [
            "\u001b[1m1875/1875\u001b[0m \u001b[32m━━━━━━━━━━━━━━━━━━━━\u001b[0m\u001b[37m\u001b[0m \u001b[1m2s\u001b[0m 1ms/step\n"
          ]
        },
        {
          "output_type": "stream",
          "name": "stderr",
          "text": [
            "/usr/local/lib/python3.11/dist-packages/keras/src/layers/core/dense.py:87: UserWarning: Do not pass an `input_shape`/`input_dim` argument to a layer. When using Sequential models, prefer using an `Input(shape)` object as the first layer in the model instead.\n",
            "  super().__init__(activity_regularizer=activity_regularizer, **kwargs)\n"
          ]
        },
        {
          "output_type": "stream",
          "name": "stdout",
          "text": [
            "\u001b[1m1875/1875\u001b[0m \u001b[32m━━━━━━━━━━━━━━━━━━━━\u001b[0m\u001b[37m\u001b[0m \u001b[1m2s\u001b[0m 1ms/step\n"
          ]
        },
        {
          "output_type": "stream",
          "name": "stderr",
          "text": [
            "/usr/local/lib/python3.11/dist-packages/keras/src/layers/core/dense.py:87: UserWarning: Do not pass an `input_shape`/`input_dim` argument to a layer. When using Sequential models, prefer using an `Input(shape)` object as the first layer in the model instead.\n",
            "  super().__init__(activity_regularizer=activity_regularizer, **kwargs)\n"
          ]
        },
        {
          "output_type": "stream",
          "name": "stdout",
          "text": [
            "\u001b[1m1875/1875\u001b[0m \u001b[32m━━━━━━━━━━━━━━━━━━━━\u001b[0m\u001b[37m\u001b[0m \u001b[1m2s\u001b[0m 1ms/step\n"
          ]
        },
        {
          "output_type": "stream",
          "name": "stderr",
          "text": [
            "/usr/local/lib/python3.11/dist-packages/keras/src/layers/core/dense.py:87: UserWarning: Do not pass an `input_shape`/`input_dim` argument to a layer. When using Sequential models, prefer using an `Input(shape)` object as the first layer in the model instead.\n",
            "  super().__init__(activity_regularizer=activity_regularizer, **kwargs)\n"
          ]
        },
        {
          "output_type": "stream",
          "name": "stdout",
          "text": [
            "\u001b[1m1875/1875\u001b[0m \u001b[32m━━━━━━━━━━━━━━━━━━━━\u001b[0m\u001b[37m\u001b[0m \u001b[1m2s\u001b[0m 1ms/step\n"
          ]
        },
        {
          "output_type": "stream",
          "name": "stderr",
          "text": [
            "/usr/local/lib/python3.11/dist-packages/keras/src/layers/core/dense.py:87: UserWarning: Do not pass an `input_shape`/`input_dim` argument to a layer. When using Sequential models, prefer using an `Input(shape)` object as the first layer in the model instead.\n",
            "  super().__init__(activity_regularizer=activity_regularizer, **kwargs)\n"
          ]
        },
        {
          "output_type": "stream",
          "name": "stdout",
          "text": [
            "\u001b[1m1875/1875\u001b[0m \u001b[32m━━━━━━━━━━━━━━━━━━━━\u001b[0m\u001b[37m\u001b[0m \u001b[1m2s\u001b[0m 1ms/step\n"
          ]
        },
        {
          "output_type": "stream",
          "name": "stderr",
          "text": [
            "/usr/local/lib/python3.11/dist-packages/keras/src/layers/core/dense.py:87: UserWarning: Do not pass an `input_shape`/`input_dim` argument to a layer. When using Sequential models, prefer using an `Input(shape)` object as the first layer in the model instead.\n",
            "  super().__init__(activity_regularizer=activity_regularizer, **kwargs)\n"
          ]
        },
        {
          "output_type": "stream",
          "name": "stdout",
          "text": [
            "\u001b[1m1875/1875\u001b[0m \u001b[32m━━━━━━━━━━━━━━━━━━━━\u001b[0m\u001b[37m\u001b[0m \u001b[1m2s\u001b[0m 1ms/step\n"
          ]
        },
        {
          "output_type": "stream",
          "name": "stderr",
          "text": [
            "/usr/local/lib/python3.11/dist-packages/keras/src/layers/core/dense.py:87: UserWarning: Do not pass an `input_shape`/`input_dim` argument to a layer. When using Sequential models, prefer using an `Input(shape)` object as the first layer in the model instead.\n",
            "  super().__init__(activity_regularizer=activity_regularizer, **kwargs)\n"
          ]
        },
        {
          "output_type": "stream",
          "name": "stdout",
          "text": [
            "\u001b[1m1875/1875\u001b[0m \u001b[32m━━━━━━━━━━━━━━━━━━━━\u001b[0m\u001b[37m\u001b[0m \u001b[1m2s\u001b[0m 1ms/step\n"
          ]
        },
        {
          "output_type": "stream",
          "name": "stderr",
          "text": [
            "/usr/local/lib/python3.11/dist-packages/keras/src/layers/core/dense.py:87: UserWarning: Do not pass an `input_shape`/`input_dim` argument to a layer. When using Sequential models, prefer using an `Input(shape)` object as the first layer in the model instead.\n",
            "  super().__init__(activity_regularizer=activity_regularizer, **kwargs)\n"
          ]
        },
        {
          "output_type": "stream",
          "name": "stdout",
          "text": [
            "\u001b[1m1875/1875\u001b[0m \u001b[32m━━━━━━━━━━━━━━━━━━━━\u001b[0m\u001b[37m\u001b[0m \u001b[1m3s\u001b[0m 1ms/step\n"
          ]
        },
        {
          "output_type": "stream",
          "name": "stderr",
          "text": [
            "/usr/local/lib/python3.11/dist-packages/keras/src/layers/core/dense.py:87: UserWarning: Do not pass an `input_shape`/`input_dim` argument to a layer. When using Sequential models, prefer using an `Input(shape)` object as the first layer in the model instead.\n",
            "  super().__init__(activity_regularizer=activity_regularizer, **kwargs)\n"
          ]
        },
        {
          "output_type": "stream",
          "name": "stdout",
          "text": [
            "\u001b[1m1875/1875\u001b[0m \u001b[32m━━━━━━━━━━━━━━━━━━━━\u001b[0m\u001b[37m\u001b[0m \u001b[1m3s\u001b[0m 1ms/step\n"
          ]
        },
        {
          "output_type": "stream",
          "name": "stderr",
          "text": [
            "/usr/local/lib/python3.11/dist-packages/keras/src/layers/core/dense.py:87: UserWarning: Do not pass an `input_shape`/`input_dim` argument to a layer. When using Sequential models, prefer using an `Input(shape)` object as the first layer in the model instead.\n",
            "  super().__init__(activity_regularizer=activity_regularizer, **kwargs)\n"
          ]
        },
        {
          "output_type": "stream",
          "name": "stdout",
          "text": [
            "\u001b[1m1875/1875\u001b[0m \u001b[32m━━━━━━━━━━━━━━━━━━━━\u001b[0m\u001b[37m\u001b[0m \u001b[1m2s\u001b[0m 1ms/step\n"
          ]
        }
      ]
    },
    {
      "cell_type": "markdown",
      "source": [
        "## Visualize Learning Curves and Model Complexity\n",
        "Plot the relationship between network architecture (units and parameters) and performance (MSE), highlighting how depth influences learning effectiveness."
      ],
      "metadata": {
        "id": "Zi701nsmOF1b"
      }
    },
    {
      "cell_type": "code",
      "source": [
        "plt.figure(figsize=(12, 5))\n",
        "\n",
        "# Plot 1: MSE vs Number of Units\n",
        "plt.subplot(1, 2, 1)\n",
        "for num_layers in results:\n",
        "    plt.plot(results[num_layers][0], results[num_layers][1],\n",
        "             label=f'{num_layers} hidden',\n",
        "             linestyle='-' if num_layers < 3 else '--')\n",
        "plt.xlabel('Number of units')\n",
        "plt.ylabel('MSE')\n",
        "plt.title(r'$f(x) = 2(2\\cos^2(x) - 1)^2 - 1$')\n",
        "plt.legend()\n",
        "\n",
        "# Plot 2: MSE vs Number of Parameters\n",
        "plt.subplot(1, 2, 2)\n",
        "for num_layers in results:\n",
        "    plt.plot(results[num_layers][2], results[num_layers][1],\n",
        "             label=f'{num_layers} hidden',\n",
        "             linestyle='-' if num_layers < 3 else '--')\n",
        "plt.xlabel('Number of parameters')\n",
        "plt.ylabel('MSE')\n",
        "plt.legend()\n",
        "\n",
        "plt.tight_layout()\n",
        "plt.show()\n"
      ],
      "metadata": {
        "colab": {
          "base_uri": "https://localhost:8080/",
          "height": 506
        },
        "id": "jcHNzT_ULWjt",
        "outputId": "5525e17b-e3d5-4bf7-8af2-93ddedf2c894"
      },
      "execution_count": null,
      "outputs": [
        {
          "output_type": "display_data",
          "data": {
            "text/plain": [
              "<Figure size 1200x500 with 2 Axes>"
            ],
            "image/png": "[encoded data removed]"
          },
          "metadata": {}
        }
      ]
    },
    {
      "cell_type": "markdown",
      "source": [
        "The networks were trained to approximate the function:\n",
        "\n",
        "f(x)=2(2cos^2 (x)−1)^2 −1\n",
        "\n",
        "This is a non-linear, high-frequency function, making it a good test for neural network expressiveness.\n",
        "\n",
        "Observations from the Plots\n",
        "1. Left Plot – MSE vs Number of Units:\n",
        "---\n",
        "3 Hidden Layers (green dashed line): Achieves lowest MSE across all unit configurations, converging quickly even with as few as 20 units.\n",
        "\n",
        "2 Hidden Layers (orange line): Performs better than 1-layer networks, especially as units increase from 40 to 60.\n",
        "\n",
        "1 Hidden Layer (blue line): Shows poor and mostly flat performance; it seems to underfit the data regardless of units.\n",
        "\n",
        "2. Right Plot – MSE vs Number of Parameters:\n",
        "---\n",
        "\n",
        "Increasing parameters helps 2- and 3-hidden-layer networks reduce error significantly.\n",
        "\n",
        "3 Hidden Layer model achieves excellent performance with fewer parameters than expected — suggesting it is more efficient in capturing the function.\n",
        "\n",
        "The 1 Hidden Layer curve may have plotting issues (notice the blue line in the upper left corner is clipped or contains a plotting glitch), or the model may have collapsed during training.\n",
        "\n",
        "\n"
      ],
      "metadata": {
        "id": "cpodkszqPhUm"
      }
    }
  ]
}